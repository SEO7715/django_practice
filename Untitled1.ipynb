{
 "cells": [
  {
   "cell_type": "code",
   "execution_count": 37,
   "metadata": {},
   "outputs": [],
   "source": [
    "import os\n",
    "os.environ['DJANGO_SETTINGS_MODULE'] = 'askcompany.settings'\n",
    "os.environ[\"DJANGO_ALLOW_ASYNC_UNSAFE\"] = \"true\"\n",
    "\n",
    "import django\n",
    "django.setup()"
   ]
  },
  {
   "cell_type": "code",
   "execution_count": 38,
   "metadata": {},
   "outputs": [],
   "source": [
    "from instagram.models import Post"
   ]
  },
  {
   "cell_type": "code",
   "execution_count": 39,
   "metadata": {},
   "outputs": [],
   "source": [
    "post_list = Post.objects.all()"
   ]
  },
  {
   "cell_type": "code",
   "execution_count": 40,
   "metadata": {},
   "outputs": [],
   "source": [
    "import random"
   ]
  },
  {
   "cell_type": "code",
   "execution_count": 41,
   "metadata": {},
   "outputs": [],
   "source": [
    "for post in post_list:\n",
    "    year = random.choice(range(1990, 2021))\n",
    "    month = random.choice(range(1, 13))\n",
    "    post.created_at = post.created_at.replace(year=year, month=month)\n",
    "    post.save()"
   ]
  },
  {
   "cell_type": "code",
   "execution_count": 42,
   "metadata": {},
   "outputs": [
    {
     "data": {
      "text/plain": [
       "<QuerySet [<Post: 첫번째 메시지>, <Post: 세번째 메시지>, <Post: 첫번째 메시지>, <Post: 세번째 메시지>, <Post: 세번째 메시지>, <Post: 첫번째 메시지>, <Post: 세번째 메시지>, <Post: 첫번째 메시지>, <Post: 세번째 메시지>, <Post: 첫번째 메시지>, <Post: 세번째 메시지>, <Post: 두번째 메시지>, <Post: 두번째 메시지>, <Post: 세번째 메시지>, <Post: 세번째 메시지>, <Post: 세번째 메시지>, <Post: 첫번째 메시지>, <Post: 세번째 메시지>, <Post: 세번째 메시지>, <Post: 첫번째 메시지>, '...(remaining elements truncated)...']>"
      ]
     },
     "execution_count": 42,
     "metadata": {},
     "output_type": "execute_result"
    }
   ],
   "source": [
    "Post.objects.all()"
   ]
  },
  {
   "cell_type": "code",
   "execution_count": 43,
   "metadata": {},
   "outputs": [
    {
     "data": {
      "text/plain": [
       "<QuerySet [(datetime.datetime(1992, 9, 13, 7, 35, 36, 785401, tzinfo=<UTC>),), (datetime.datetime(2017, 12, 13, 7, 35, 36, 778420, tzinfo=<UTC>),), (datetime.datetime(2014, 9, 13, 7, 35, 36, 769443, tzinfo=<UTC>),), (datetime.datetime(2006, 9, 13, 7, 35, 36, 762464, tzinfo=<UTC>),), (datetime.datetime(2004, 9, 13, 7, 35, 36, 753487, tzinfo=<UTC>),), (datetime.datetime(2016, 8, 13, 7, 35, 36, 747503, tzinfo=<UTC>),), (datetime.datetime(2007, 1, 13, 7, 35, 36, 730551, tzinfo=<UTC>),), (datetime.datetime(2013, 8, 13, 7, 35, 36, 722572, tzinfo=<UTC>),), (datetime.datetime(2012, 3, 13, 7, 35, 36, 714592, tzinfo=<UTC>),), (datetime.datetime(1995, 3, 13, 7, 35, 36, 704618, tzinfo=<UTC>),), (datetime.datetime(2004, 6, 13, 7, 35, 36, 697636, tzinfo=<UTC>),), (datetime.datetime(2018, 3, 13, 7, 35, 36, 688660, tzinfo=<UTC>),), (datetime.datetime(1998, 1, 13, 7, 35, 36, 672704, tzinfo=<UTC>),), (datetime.datetime(2006, 10, 13, 7, 35, 36, 665721, tzinfo=<UTC>),), (datetime.datetime(1990, 1, 13, 7, 35, 36, 656745, tzinfo=<UTC>),), (datetime.datetime(2005, 9, 13, 7, 35, 36, 648768, tzinfo=<UTC>),), (datetime.datetime(2003, 3, 13, 7, 35, 36, 640793, tzinfo=<UTC>),), (datetime.datetime(2011, 12, 13, 7, 35, 36, 630814, tzinfo=<UTC>),), (datetime.datetime(1996, 7, 13, 7, 35, 36, 624832, tzinfo=<UTC>),), (datetime.datetime(2003, 8, 13, 7, 35, 36, 605885, tzinfo=<UTC>),), '...(remaining elements truncated)...']>"
      ]
     },
     "execution_count": 43,
     "metadata": {},
     "output_type": "execute_result"
    }
   ],
   "source": [
    "Post.objects.all().values_list('created_at')"
   ]
  },
  {
   "cell_type": "code",
   "execution_count": 45,
   "metadata": {},
   "outputs": [
    {
     "data": {
      "text/plain": [
       "<QuerySet [(1992,), (2017,), (2014,), (2006,), (2004,), (2016,), (2007,), (2013,), (2012,), (1995,), (2004,), (2018,), (1998,), (2006,), (1990,), (2005,), (2003,), (2011,), (1996,), (2003,), '...(remaining elements truncated)...']>"
      ]
     },
     "execution_count": 45,
     "metadata": {},
     "output_type": "execute_result"
    }
   ],
   "source": [
    "Post.objects.all().values_list('created_at__year')"
   ]
  },
  {
   "cell_type": "code",
   "execution_count": 47,
   "metadata": {},
   "outputs": [
    {
     "data": {
      "text/plain": [
       "<QuerySet [1992, 2017, 2014, 2006, 2004, 2016, 2007, 2013, 2012, 1995, 2004, 2018, 1998, 2006, 1990, 2005, 2003, 2011, 1996, 2003, '...(remaining elements truncated)...']>"
      ]
     },
     "execution_count": 47,
     "metadata": {},
     "output_type": "execute_result"
    }
   ],
   "source": [
    "Post.objects.all().values_list('created_at__year', flat=True)"
   ]
  },
  {
   "cell_type": "code",
   "execution_count": 48,
   "metadata": {},
   "outputs": [
    {
     "data": {
      "text/plain": [
       "<QuerySet [1992, 2017, 2014, 2006, 2004, 2016, 2007, 2013, 2012, 1995, 2004, 2018, 1998, 2006, 1990, 2005, 2003, 2011, 1996, 2003, '...(remaining elements truncated)...']>"
      ]
     },
     "execution_count": 48,
     "metadata": {},
     "output_type": "execute_result"
    }
   ],
   "source": [
    "Post.objects.all().values_list('created_at__year', flat=True)"
   ]
  },
  {
   "cell_type": "code",
   "execution_count": 49,
   "metadata": {},
   "outputs": [],
   "source": [
    "year_list = _"
   ]
  },
  {
   "cell_type": "code",
   "execution_count": 50,
   "metadata": {},
   "outputs": [
    {
     "data": {
      "text/plain": [
       "<QuerySet [1992, 2017, 2014, 2006, 2004, 2016, 2007, 2013, 2012, 1995, 2004, 2018, 1998, 2006, 1990, 2005, 2003, 2011, 1996, 2003, '...(remaining elements truncated)...']>"
      ]
     },
     "execution_count": 50,
     "metadata": {},
     "output_type": "execute_result"
    }
   ],
   "source": [
    "year_list"
   ]
  },
  {
   "cell_type": "code",
   "execution_count": 51,
   "metadata": {},
   "outputs": [
    {
     "data": {
      "text/plain": [
       "{1990,\n",
       " 1991,\n",
       " 1992,\n",
       " 1993,\n",
       " 1994,\n",
       " 1995,\n",
       " 1996,\n",
       " 1998,\n",
       " 1999,\n",
       " 2000,\n",
       " 2001,\n",
       " 2002,\n",
       " 2003,\n",
       " 2004,\n",
       " 2005,\n",
       " 2006,\n",
       " 2007,\n",
       " 2009,\n",
       " 2010,\n",
       " 2011,\n",
       " 2012,\n",
       " 2013,\n",
       " 2014,\n",
       " 2016,\n",
       " 2017,\n",
       " 2018,\n",
       " 2019,\n",
       " 2020}"
      ]
     },
     "execution_count": 51,
     "metadata": {},
     "output_type": "execute_result"
    }
   ],
   "source": [
    "set(year_list)"
   ]
  },
  {
   "cell_type": "code",
   "execution_count": null,
   "metadata": {},
   "outputs": [],
   "source": []
  }
 ],
 "metadata": {
  "kernelspec": {
   "display_name": "Python 3",
   "language": "python",
   "name": "python3"
  },
  "language_info": {
   "codemirror_mode": {
    "name": "ipython",
    "version": 3
   },
   "file_extension": ".py",
   "mimetype": "text/x-python",
   "name": "python",
   "nbconvert_exporter": "python",
   "pygments_lexer": "ipython3",
   "version": "3.8.5"
  }
 },
 "nbformat": 4,
 "nbformat_minor": 4
}
